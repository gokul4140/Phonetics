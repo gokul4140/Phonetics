{
  "nbformat": 4,
  "nbformat_minor": 0,
  "metadata": {
    "colab": {
      "provenance": []
    },
    "kernelspec": {
      "name": "python3",
      "display_name": "Python 3"
    },
    "language_info": {
      "name": "python"
    }
  },
  "cells": [
    {
      "cell_type": "code",
      "execution_count": null,
      "metadata": {
        "colab": {
          "base_uri": "https://localhost:8080/"
        },
        "id": "ybe4GZG7MWpC",
        "outputId": "2562562e-a11b-4a4f-844b-03b5029856d6"
      },
      "outputs": [
        {
          "output_type": "stream",
          "name": "stdout",
          "text": [
            "Collecting epitran\n",
            "  Downloading epitran-1.26.0-py2.py3-none-any.whl.metadata (34 kB)\n",
            "Collecting gtts\n",
            "  Downloading gTTS-2.5.4-py3-none-any.whl.metadata (4.1 kB)\n",
            "Collecting playsound\n",
            "  Downloading playsound-1.3.0.tar.gz (7.7 kB)\n",
            "  Preparing metadata (setup.py) ... \u001b[?25l\u001b[?25hdone\n",
            "Requirement already satisfied: setuptools in /usr/local/lib/python3.11/dist-packages (from epitran) (75.1.0)\n",
            "Requirement already satisfied: regex in /usr/local/lib/python3.11/dist-packages (from epitran) (2024.11.6)\n",
            "Collecting panphon>=0.20 (from epitran)\n",
            "  Downloading panphon-0.21.2-py2.py3-none-any.whl.metadata (15 kB)\n",
            "Requirement already satisfied: marisa-trie in /usr/local/lib/python3.11/dist-packages (from epitran) (1.2.1)\n",
            "Requirement already satisfied: requests in /usr/local/lib/python3.11/dist-packages (from epitran) (2.32.3)\n",
            "Collecting jamo (from epitran)\n",
            "  Downloading jamo-0.4.1-py3-none-any.whl.metadata (2.3 kB)\n",
            "Requirement already satisfied: click<8.2,>=7.1 in /usr/local/lib/python3.11/dist-packages (from gtts) (8.1.8)\n",
            "Collecting unicodecsv (from panphon>=0.20->epitran)\n",
            "  Downloading unicodecsv-0.14.1.tar.gz (10 kB)\n",
            "  Preparing metadata (setup.py) ... \u001b[?25l\u001b[?25hdone\n",
            "Requirement already satisfied: PyYAML in /usr/local/lib/python3.11/dist-packages (from panphon>=0.20->epitran) (6.0.2)\n",
            "Requirement already satisfied: numpy>=1.20.2 in /usr/local/lib/python3.11/dist-packages (from panphon>=0.20->epitran) (1.26.4)\n",
            "Requirement already satisfied: editdistance in /usr/local/lib/python3.11/dist-packages (from panphon>=0.20->epitran) (0.8.1)\n",
            "Collecting munkres (from panphon>=0.20->epitran)\n",
            "  Downloading munkres-1.1.4-py2.py3-none-any.whl.metadata (980 bytes)\n",
            "Requirement already satisfied: charset-normalizer<4,>=2 in /usr/local/lib/python3.11/dist-packages (from requests->epitran) (3.4.1)\n",
            "Requirement already satisfied: idna<4,>=2.5 in /usr/local/lib/python3.11/dist-packages (from requests->epitran) (3.10)\n",
            "Requirement already satisfied: urllib3<3,>=1.21.1 in /usr/local/lib/python3.11/dist-packages (from requests->epitran) (2.3.0)\n",
            "Requirement already satisfied: certifi>=2017.4.17 in /usr/local/lib/python3.11/dist-packages (from requests->epitran) (2025.1.31)\n",
            "Downloading epitran-1.26.0-py2.py3-none-any.whl (188 kB)\n",
            "\u001b[2K   \u001b[90m━━━━━━━━━━━━━━━━━━━━━━━━━━━━━━━━━━━━━━━━\u001b[0m \u001b[32m188.5/188.5 kB\u001b[0m \u001b[31m6.5 MB/s\u001b[0m eta \u001b[36m0:00:00\u001b[0m\n",
            "\u001b[?25hDownloading gTTS-2.5.4-py3-none-any.whl (29 kB)\n",
            "Downloading panphon-0.21.2-py2.py3-none-any.whl (75 kB)\n",
            "\u001b[2K   \u001b[90m━━━━━━━━━━━━━━━━━━━━━━━━━━━━━━━━━━━━━━━━\u001b[0m \u001b[32m75.4/75.4 kB\u001b[0m \u001b[31m5.4 MB/s\u001b[0m eta \u001b[36m0:00:00\u001b[0m\n",
            "\u001b[?25hDownloading jamo-0.4.1-py3-none-any.whl (9.5 kB)\n",
            "Downloading munkres-1.1.4-py2.py3-none-any.whl (7.0 kB)\n",
            "Building wheels for collected packages: playsound, unicodecsv\n",
            "  Building wheel for playsound (setup.py) ... \u001b[?25l\u001b[?25hdone\n",
            "  Created wheel for playsound: filename=playsound-1.3.0-py3-none-any.whl size=7020 sha256=2d71c497ad53f6cacf34c281e4b0b7fab5e3003c0a4002dcac6a8c972c2af16f\n",
            "  Stored in directory: /root/.cache/pip/wheels/50/98/42/62753a9e1fb97579a0ce2f84f7db4c21c09d03bb2091e6cef4\n",
            "  Building wheel for unicodecsv (setup.py) ... \u001b[?25l\u001b[?25hdone\n",
            "  Created wheel for unicodecsv: filename=unicodecsv-0.14.1-py3-none-any.whl size=10744 sha256=925217e5fa1d734d4fcd0a708c766d194f538ef87ecf4d0e2009dc9234447b32\n",
            "  Stored in directory: /root/.cache/pip/wheels/ec/03/6f/d2e0162d94c0d451556fa43dd4d5531457245c34a36b41ef4a\n",
            "Successfully built playsound unicodecsv\n",
            "Installing collected packages: unicodecsv, playsound, munkres, jamo, panphon, gtts, epitran\n",
            "Successfully installed epitran-1.26.0 gtts-2.5.4 jamo-0.4.1 munkres-1.1.4 panphon-0.21.2 playsound-1.3.0 unicodecsv-0.14.1\n"
          ]
        }
      ],
      "source": [
        "!pip install epitran gtts playsound\n"
      ]
    },
    {
      "cell_type": "code",
      "source": [
        "pip install epitran gtts playsound tkinter\n"
      ],
      "metadata": {
        "colab": {
          "base_uri": "https://localhost:8080/"
        },
        "id": "rIh0munaMeV0",
        "outputId": "fb74b613-7b54-471d-ac71-a2a1b22acf21"
      },
      "execution_count": null,
      "outputs": [
        {
          "output_type": "stream",
          "name": "stdout",
          "text": [
            "Requirement already satisfied: epitran in /usr/local/lib/python3.11/dist-packages (1.26.0)\n",
            "Requirement already satisfied: gtts in /usr/local/lib/python3.11/dist-packages (2.5.4)\n",
            "Requirement already satisfied: playsound in /usr/local/lib/python3.11/dist-packages (1.3.0)\n",
            "\u001b[31mERROR: Could not find a version that satisfies the requirement tkinter (from versions: none)\u001b[0m\u001b[31m\n",
            "\u001b[0m\u001b[31mERROR: No matching distribution found for tkinter\u001b[0m\u001b[31m\n",
            "\u001b[0m"
          ]
        }
      ]
    },
    {
      "cell_type": "code",
      "source": [
        "!pip install phonemizer gtts pydub\n",
        "!apt-get install espeak-ng -y\n"
      ],
      "metadata": {
        "colab": {
          "base_uri": "https://localhost:8080/"
        },
        "id": "_2aPZbKPNP9d",
        "outputId": "3c49749e-21e4-4435-a831-07240c412350"
      },
      "execution_count": null,
      "outputs": [
        {
          "output_type": "stream",
          "name": "stdout",
          "text": [
            "Collecting phonemizer\n",
            "  Downloading phonemizer-3.3.0-py3-none-any.whl.metadata (48 kB)\n",
            "\u001b[?25l     \u001b[90m━━━━━━━━━━━━━━━━━━━━━━━━━━━━━━━━━━━━━━━━\u001b[0m \u001b[32m0.0/48.2 kB\u001b[0m \u001b[31m?\u001b[0m eta \u001b[36m-:--:--\u001b[0m\r\u001b[2K     \u001b[90m━━━━━━━━━━━━━━━━━━━━━━━━━━━━━━━━━━━━━━━━\u001b[0m \u001b[32m48.2/48.2 kB\u001b[0m \u001b[31m2.4 MB/s\u001b[0m eta \u001b[36m0:00:00\u001b[0m\n",
            "\u001b[?25hRequirement already satisfied: gtts in /usr/local/lib/python3.11/dist-packages (2.5.4)\n",
            "Collecting pydub\n",
            "  Downloading pydub-0.25.1-py2.py3-none-any.whl.metadata (1.4 kB)\n",
            "Requirement already satisfied: joblib in /usr/local/lib/python3.11/dist-packages (from phonemizer) (1.4.2)\n",
            "Collecting segments (from phonemizer)\n",
            "  Downloading segments-2.3.0-py2.py3-none-any.whl.metadata (3.5 kB)\n",
            "Requirement already satisfied: attrs>=18.1 in /usr/local/lib/python3.11/dist-packages (from phonemizer) (25.1.0)\n",
            "Collecting dlinfo (from phonemizer)\n",
            "  Downloading dlinfo-2.0.0-py3-none-any.whl.metadata (1.1 kB)\n",
            "Requirement already satisfied: typing-extensions in /usr/local/lib/python3.11/dist-packages (from phonemizer) (4.12.2)\n",
            "Requirement already satisfied: requests<3,>=2.27 in /usr/local/lib/python3.11/dist-packages (from gtts) (2.32.3)\n",
            "Requirement already satisfied: click<8.2,>=7.1 in /usr/local/lib/python3.11/dist-packages (from gtts) (8.1.8)\n",
            "Requirement already satisfied: charset-normalizer<4,>=2 in /usr/local/lib/python3.11/dist-packages (from requests<3,>=2.27->gtts) (3.4.1)\n",
            "Requirement already satisfied: idna<4,>=2.5 in /usr/local/lib/python3.11/dist-packages (from requests<3,>=2.27->gtts) (3.10)\n",
            "Requirement already satisfied: urllib3<3,>=1.21.1 in /usr/local/lib/python3.11/dist-packages (from requests<3,>=2.27->gtts) (2.3.0)\n",
            "Requirement already satisfied: certifi>=2017.4.17 in /usr/local/lib/python3.11/dist-packages (from requests<3,>=2.27->gtts) (2025.1.31)\n",
            "Requirement already satisfied: regex in /usr/local/lib/python3.11/dist-packages (from segments->phonemizer) (2024.11.6)\n",
            "Collecting csvw>=1.5.6 (from segments->phonemizer)\n",
            "  Downloading csvw-3.5.1-py2.py3-none-any.whl.metadata (10 kB)\n",
            "Collecting isodate (from csvw>=1.5.6->segments->phonemizer)\n",
            "  Downloading isodate-0.7.2-py3-none-any.whl.metadata (11 kB)\n",
            "Requirement already satisfied: python-dateutil in /usr/local/lib/python3.11/dist-packages (from csvw>=1.5.6->segments->phonemizer) (2.8.2)\n",
            "Collecting rfc3986<2 (from csvw>=1.5.6->segments->phonemizer)\n",
            "  Downloading rfc3986-1.5.0-py2.py3-none-any.whl.metadata (6.5 kB)\n",
            "Requirement already satisfied: uritemplate>=3.0.0 in /usr/local/lib/python3.11/dist-packages (from csvw>=1.5.6->segments->phonemizer) (4.1.1)\n",
            "Requirement already satisfied: babel in /usr/local/lib/python3.11/dist-packages (from csvw>=1.5.6->segments->phonemizer) (2.17.0)\n",
            "Collecting language-tags (from csvw>=1.5.6->segments->phonemizer)\n",
            "  Downloading language_tags-1.2.0-py3-none-any.whl.metadata (2.1 kB)\n",
            "Collecting rdflib (from csvw>=1.5.6->segments->phonemizer)\n",
            "  Downloading rdflib-7.1.3-py3-none-any.whl.metadata (11 kB)\n",
            "Collecting colorama (from csvw>=1.5.6->segments->phonemizer)\n",
            "  Downloading colorama-0.4.6-py2.py3-none-any.whl.metadata (17 kB)\n",
            "Requirement already satisfied: jsonschema in /usr/local/lib/python3.11/dist-packages (from csvw>=1.5.6->segments->phonemizer) (4.23.0)\n",
            "Requirement already satisfied: jsonschema-specifications>=2023.03.6 in /usr/local/lib/python3.11/dist-packages (from jsonschema->csvw>=1.5.6->segments->phonemizer) (2024.10.1)\n",
            "Requirement already satisfied: referencing>=0.28.4 in /usr/local/lib/python3.11/dist-packages (from jsonschema->csvw>=1.5.6->segments->phonemizer) (0.36.2)\n",
            "Requirement already satisfied: rpds-py>=0.7.1 in /usr/local/lib/python3.11/dist-packages (from jsonschema->csvw>=1.5.6->segments->phonemizer) (0.23.1)\n",
            "Requirement already satisfied: six>=1.5 in /usr/local/lib/python3.11/dist-packages (from python-dateutil->csvw>=1.5.6->segments->phonemizer) (1.17.0)\n",
            "Requirement already satisfied: pyparsing<4,>=2.1.0 in /usr/local/lib/python3.11/dist-packages (from rdflib->csvw>=1.5.6->segments->phonemizer) (3.2.1)\n",
            "Downloading phonemizer-3.3.0-py3-none-any.whl (103 kB)\n",
            "\u001b[2K   \u001b[90m━━━━━━━━━━━━━━━━━━━━━━━━━━━━━━━━━━━━━━━━\u001b[0m \u001b[32m103.8/103.8 kB\u001b[0m \u001b[31m5.7 MB/s\u001b[0m eta \u001b[36m0:00:00\u001b[0m\n",
            "\u001b[?25hDownloading pydub-0.25.1-py2.py3-none-any.whl (32 kB)\n",
            "Downloading dlinfo-2.0.0-py3-none-any.whl (3.7 kB)\n",
            "Downloading segments-2.3.0-py2.py3-none-any.whl (15 kB)\n",
            "Downloading csvw-3.5.1-py2.py3-none-any.whl (59 kB)\n",
            "\u001b[2K   \u001b[90m━━━━━━━━━━━━━━━━━━━━━━━━━━━━━━━━━━━━━━━━\u001b[0m \u001b[32m59.9/59.9 kB\u001b[0m \u001b[31m4.0 MB/s\u001b[0m eta \u001b[36m0:00:00\u001b[0m\n",
            "\u001b[?25hDownloading rfc3986-1.5.0-py2.py3-none-any.whl (31 kB)\n",
            "Downloading colorama-0.4.6-py2.py3-none-any.whl (25 kB)\n",
            "Downloading isodate-0.7.2-py3-none-any.whl (22 kB)\n",
            "Downloading language_tags-1.2.0-py3-none-any.whl (213 kB)\n",
            "\u001b[2K   \u001b[90m━━━━━━━━━━━━━━━━━━━━━━━━━━━━━━━━━━━━━━━━\u001b[0m \u001b[32m213.4/213.4 kB\u001b[0m \u001b[31m10.7 MB/s\u001b[0m eta \u001b[36m0:00:00\u001b[0m\n",
            "\u001b[?25hDownloading rdflib-7.1.3-py3-none-any.whl (564 kB)\n",
            "\u001b[2K   \u001b[90m━━━━━━━━━━━━━━━━━━━━━━━━━━━━━━━━━━━━━━━━\u001b[0m \u001b[32m564.9/564.9 kB\u001b[0m \u001b[31m29.6 MB/s\u001b[0m eta \u001b[36m0:00:00\u001b[0m\n",
            "\u001b[?25hInstalling collected packages: rfc3986, pydub, language-tags, rdflib, isodate, dlinfo, colorama, csvw, segments, phonemizer\n",
            "Successfully installed colorama-0.4.6 csvw-3.5.1 dlinfo-2.0.0 isodate-0.7.2 language-tags-1.2.0 phonemizer-3.3.0 pydub-0.25.1 rdflib-7.1.3 rfc3986-1.5.0 segments-2.3.0\n",
            "Reading package lists... Done\n",
            "Building dependency tree... Done\n",
            "Reading state information... Done\n",
            "The following additional packages will be installed:\n",
            "  espeak-ng-data libespeak-ng1 libpcaudio0 libsonic0\n",
            "The following NEW packages will be installed:\n",
            "  espeak-ng espeak-ng-data libespeak-ng1 libpcaudio0 libsonic0\n",
            "0 upgraded, 5 newly installed, 0 to remove and 29 not upgraded.\n",
            "Need to get 4,526 kB of archives.\n",
            "After this operation, 11.9 MB of additional disk space will be used.\n",
            "Get:1 http://archive.ubuntu.com/ubuntu jammy/main amd64 libpcaudio0 amd64 1.1-6build2 [8,956 B]\n",
            "Get:2 http://archive.ubuntu.com/ubuntu jammy/main amd64 libsonic0 amd64 0.2.0-11build1 [10.3 kB]\n",
            "Get:3 http://archive.ubuntu.com/ubuntu jammy-updates/main amd64 espeak-ng-data amd64 1.50+dfsg-10ubuntu0.1 [3,956 kB]\n",
            "Get:4 http://archive.ubuntu.com/ubuntu jammy-updates/main amd64 libespeak-ng1 amd64 1.50+dfsg-10ubuntu0.1 [207 kB]\n",
            "Get:5 http://archive.ubuntu.com/ubuntu jammy-updates/universe amd64 espeak-ng amd64 1.50+dfsg-10ubuntu0.1 [343 kB]\n",
            "Fetched 4,526 kB in 2s (2,917 kB/s)\n",
            "Selecting previously unselected package libpcaudio0:amd64.\n",
            "(Reading database ... 124947 files and directories currently installed.)\n",
            "Preparing to unpack .../libpcaudio0_1.1-6build2_amd64.deb ...\n",
            "Unpacking libpcaudio0:amd64 (1.1-6build2) ...\n",
            "Selecting previously unselected package libsonic0:amd64.\n",
            "Preparing to unpack .../libsonic0_0.2.0-11build1_amd64.deb ...\n",
            "Unpacking libsonic0:amd64 (0.2.0-11build1) ...\n",
            "Selecting previously unselected package espeak-ng-data:amd64.\n",
            "Preparing to unpack .../espeak-ng-data_1.50+dfsg-10ubuntu0.1_amd64.deb ...\n",
            "Unpacking espeak-ng-data:amd64 (1.50+dfsg-10ubuntu0.1) ...\n",
            "Selecting previously unselected package libespeak-ng1:amd64.\n",
            "Preparing to unpack .../libespeak-ng1_1.50+dfsg-10ubuntu0.1_amd64.deb ...\n",
            "Unpacking libespeak-ng1:amd64 (1.50+dfsg-10ubuntu0.1) ...\n",
            "Selecting previously unselected package espeak-ng.\n",
            "Preparing to unpack .../espeak-ng_1.50+dfsg-10ubuntu0.1_amd64.deb ...\n",
            "Unpacking espeak-ng (1.50+dfsg-10ubuntu0.1) ...\n",
            "Setting up libpcaudio0:amd64 (1.1-6build2) ...\n",
            "Setting up libsonic0:amd64 (0.2.0-11build1) ...\n",
            "Setting up espeak-ng-data:amd64 (1.50+dfsg-10ubuntu0.1) ...\n",
            "Setting up libespeak-ng1:amd64 (1.50+dfsg-10ubuntu0.1) ...\n",
            "Setting up espeak-ng (1.50+dfsg-10ubuntu0.1) ...\n",
            "Processing triggers for man-db (2.10.2-1) ...\n",
            "Processing triggers for libc-bin (2.35-0ubuntu3.8) ...\n",
            "/sbin/ldconfig.real: /usr/local/lib/libtcm.so.1 is not a symbolic link\n",
            "\n",
            "/sbin/ldconfig.real: /usr/local/lib/libur_loader.so.0 is not a symbolic link\n",
            "\n",
            "/sbin/ldconfig.real: /usr/local/lib/libhwloc.so.15 is not a symbolic link\n",
            "\n",
            "/sbin/ldconfig.real: /usr/local/lib/libur_adapter_opencl.so.0 is not a symbolic link\n",
            "\n",
            "/sbin/ldconfig.real: /usr/local/lib/libtcm_debug.so.1 is not a symbolic link\n",
            "\n",
            "/sbin/ldconfig.real: /usr/local/lib/libur_adapter_level_zero.so.0 is not a symbolic link\n",
            "\n",
            "/sbin/ldconfig.real: /usr/local/lib/libtbbbind.so.3 is not a symbolic link\n",
            "\n",
            "/sbin/ldconfig.real: /usr/local/lib/libtbbmalloc_proxy.so.2 is not a symbolic link\n",
            "\n",
            "/sbin/ldconfig.real: /usr/local/lib/libtbbbind_2_0.so.3 is not a symbolic link\n",
            "\n",
            "/sbin/ldconfig.real: /usr/local/lib/libtbbmalloc.so.2 is not a symbolic link\n",
            "\n",
            "/sbin/ldconfig.real: /usr/local/lib/libtbb.so.12 is not a symbolic link\n",
            "\n",
            "/sbin/ldconfig.real: /usr/local/lib/libtbbbind_2_5.so.3 is not a symbolic link\n",
            "\n",
            "/sbin/ldconfig.real: /usr/local/lib/libumf.so.0 is not a symbolic link\n",
            "\n"
          ]
        }
      ]
    },
    {
      "cell_type": "code",
      "source": [
        " from phonemizer import phonemize\n",
        "from gtts import gTTS\n",
        "import os\n",
        "from IPython.display import Audio, display\n",
        "def transcribe(text, lang_code):\n",
        "    \"\"\"Transcribes the input text into IPA using phonemizer.\"\"\"\n",
        "    try:\n",
        "        ipa_transcription = phonemize(text, language=lang_code, backend=\"espeak\")\n",
        "        return ipa_transcription\n",
        "    except Exception as e:\n",
        "        return f\"Error: {str(e)}\"\n",
        "def play_audio(text, lang_code):\n",
        "    \"\"\"Plays the audio pronunciation of the input text.\"\"\"\n",
        "    try:\n",
        "        tts = gTTS(text, lang=lang_code[:2])  # Extract first two letters for TTS\n",
        "        audio_file = \"output.mp3\"\n",
        "        tts.save(audio_file)\n",
        "        display(Audio(audio_file, autoplay=True))  # Plays audio in Colab\n",
        "    except Exception as e:\n",
        "        print(f\"Error: {str(e)}\")\n",
        "# Get user input\n",
        "text = input(\"Enter text to transcribe: \")\n",
        "lang_code = input(\"Enter language code (e.g., 'en', 'fr', 'es'): \")\n",
        "\n",
        "# Play pronunciation\n",
        "play_audio(text, lang_code)\n"
      ],
      "metadata": {
        "colab": {
          "base_uri": "https://localhost:8080/",
          "height": 111
        },
        "id": "Su8u_XsjNRxN",
        "outputId": "b0b11844-ebd3-4477-c058-276a8c36bbe6"
      },
      "execution_count": 19,
      "outputs": [
        {
          "name": "stdout",
          "output_type": "stream",
          "text": [
            "Enter text to transcribe: gokulnath \n",
            "Enter language code (e.g., 'en', 'fr', 'es'): en\n"
          ]
        },
        {
          "output_type": "display_data",
          "data": {
            "text/plain": [
              "<IPython.lib.display.Audio object>"
            ],
            "text/html": [
              "\n",
              "                <audio  controls=\"controls\" autoplay=\"autoplay\">\n",
              "                    <source src=\"data:audio/mpeg;base64,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\" type=\"audio/mpeg\" />\n",
              "                    Your browser does not support the audio element.\n",
              "                </audio>\n",
              "              "
            ]
          },
          "metadata": {}
        }
      ]
    },
    {
      "cell_type": "code",
      "source": [
        "!apt-get install espeak-ng -y\n"
      ],
      "metadata": {
        "colab": {
          "base_uri": "https://localhost:8080/"
        },
        "id": "dwYk8urlNUZa",
        "outputId": "f4e16f05-9bd1-454c-bee2-9b269704d718"
      },
      "execution_count": null,
      "outputs": [
        {
          "output_type": "stream",
          "name": "stdout",
          "text": [
            "Reading package lists... Done\n",
            "Building dependency tree... Done\n",
            "Reading state information... Done\n",
            "espeak-ng is already the newest version (1.50+dfsg-10ubuntu0.1).\n",
            "0 upgraded, 0 newly installed, 0 to remove and 29 not upgraded.\n"
          ]
        }
      ]
    },
    {
      "cell_type": "code",
      "source": [
        "import subprocess\n",
        "def transcribe_with_espeak(text, lang_code=\"en-us\"):\n",
        "    \"\"\"Transcribes text to IPA using espeak-ng.\"\"\"\n",
        "    try:\n",
        "        result = subprocess.run([\"espeak-ng\", \"-v\", lang_code, \"--ipa\", text], capture_output=True, text=True)\n",
        "        ipa_transcription = result.stdout.strip()\n",
        "        return ipa_transcription\n",
        "    except Exception as e:\n",
        "        return f\"Error: {str(e)}\"\n",
        "\n",
        "# Get user input\n",
        "text = input(\"Enter text to transcribe: \")\n",
        "lang_code = input(\"Enter language code (e.g., 'en-us', 'fr', 'es'): \")\n",
        "\n",
        "# Perform transcription\n",
        "ipa_result = transcribe_with_espeak(text, lang_code)\n",
        "print(f\"IPA Transcription: {ipa_result}\")\n"
      ],
      "metadata": {
        "colab": {
          "base_uri": "https://localhost:8080/"
        },
        "id": "0J91BuTQNWVl",
        "outputId": "3dceeeb2-f0cd-42ae-c3ba-62a4f175a71d"
      },
      "execution_count": null,
      "outputs": [
        {
          "output_type": "stream",
          "name": "stdout",
          "text": [
            "Enter text to transcribe: gokulnath\n",
            "Enter language code (e.g., 'en-us', 'fr', 'es'): en-us\n",
            "IPA Transcription: ɡˈoʊkəlnˌæθ\n"
          ]
        }
      ]
    },
    {
      "cell_type": "code",
      "source": [
        "!pip install jiwer phonemizer\n"
      ],
      "metadata": {
        "colab": {
          "base_uri": "https://localhost:8080/"
        },
        "id": "7qPRj5jDNc4m",
        "outputId": "40dc2193-b6c1-42bb-ee10-385406edca38"
      },
      "execution_count": null,
      "outputs": [
        {
          "output_type": "stream",
          "name": "stdout",
          "text": [
            "Collecting jiwer\n",
            "  Downloading jiwer-3.1.0-py3-none-any.whl.metadata (2.6 kB)\n",
            "Requirement already satisfied: phonemizer in /usr/local/lib/python3.11/dist-packages (3.3.0)\n",
            "Requirement already satisfied: click>=8.1.8 in /usr/local/lib/python3.11/dist-packages (from jiwer) (8.1.8)\n",
            "Collecting rapidfuzz>=3.9.7 (from jiwer)\n",
            "  Downloading rapidfuzz-3.12.2-cp311-cp311-manylinux_2_17_x86_64.manylinux2014_x86_64.whl.metadata (12 kB)\n",
            "Requirement already satisfied: joblib in /usr/local/lib/python3.11/dist-packages (from phonemizer) (1.4.2)\n",
            "Requirement already satisfied: segments in /usr/local/lib/python3.11/dist-packages (from phonemizer) (2.3.0)\n",
            "Requirement already satisfied: attrs>=18.1 in /usr/local/lib/python3.11/dist-packages (from phonemizer) (25.1.0)\n",
            "Requirement already satisfied: dlinfo in /usr/local/lib/python3.11/dist-packages (from phonemizer) (2.0.0)\n",
            "Requirement already satisfied: typing-extensions in /usr/local/lib/python3.11/dist-packages (from phonemizer) (4.12.2)\n",
            "Requirement already satisfied: regex in /usr/local/lib/python3.11/dist-packages (from segments->phonemizer) (2024.11.6)\n",
            "Requirement already satisfied: csvw>=1.5.6 in /usr/local/lib/python3.11/dist-packages (from segments->phonemizer) (3.5.1)\n",
            "Requirement already satisfied: isodate in /usr/local/lib/python3.11/dist-packages (from csvw>=1.5.6->segments->phonemizer) (0.7.2)\n",
            "Requirement already satisfied: python-dateutil in /usr/local/lib/python3.11/dist-packages (from csvw>=1.5.6->segments->phonemizer) (2.8.2)\n",
            "Requirement already satisfied: rfc3986<2 in /usr/local/lib/python3.11/dist-packages (from csvw>=1.5.6->segments->phonemizer) (1.5.0)\n",
            "Requirement already satisfied: uritemplate>=3.0.0 in /usr/local/lib/python3.11/dist-packages (from csvw>=1.5.6->segments->phonemizer) (4.1.1)\n",
            "Requirement already satisfied: babel in /usr/local/lib/python3.11/dist-packages (from csvw>=1.5.6->segments->phonemizer) (2.17.0)\n",
            "Requirement already satisfied: requests in /usr/local/lib/python3.11/dist-packages (from csvw>=1.5.6->segments->phonemizer) (2.32.3)\n",
            "Requirement already satisfied: language-tags in /usr/local/lib/python3.11/dist-packages (from csvw>=1.5.6->segments->phonemizer) (1.2.0)\n",
            "Requirement already satisfied: rdflib in /usr/local/lib/python3.11/dist-packages (from csvw>=1.5.6->segments->phonemizer) (7.1.3)\n",
            "Requirement already satisfied: colorama in /usr/local/lib/python3.11/dist-packages (from csvw>=1.5.6->segments->phonemizer) (0.4.6)\n",
            "Requirement already satisfied: jsonschema in /usr/local/lib/python3.11/dist-packages (from csvw>=1.5.6->segments->phonemizer) (4.23.0)\n",
            "Requirement already satisfied: jsonschema-specifications>=2023.03.6 in /usr/local/lib/python3.11/dist-packages (from jsonschema->csvw>=1.5.6->segments->phonemizer) (2024.10.1)\n",
            "Requirement already satisfied: referencing>=0.28.4 in /usr/local/lib/python3.11/dist-packages (from jsonschema->csvw>=1.5.6->segments->phonemizer) (0.36.2)\n",
            "Requirement already satisfied: rpds-py>=0.7.1 in /usr/local/lib/python3.11/dist-packages (from jsonschema->csvw>=1.5.6->segments->phonemizer) (0.23.1)\n",
            "Requirement already satisfied: six>=1.5 in /usr/local/lib/python3.11/dist-packages (from python-dateutil->csvw>=1.5.6->segments->phonemizer) (1.17.0)\n",
            "Requirement already satisfied: pyparsing<4,>=2.1.0 in /usr/local/lib/python3.11/dist-packages (from rdflib->csvw>=1.5.6->segments->phonemizer) (3.2.1)\n",
            "Requirement already satisfied: charset-normalizer<4,>=2 in /usr/local/lib/python3.11/dist-packages (from requests->csvw>=1.5.6->segments->phonemizer) (3.4.1)\n",
            "Requirement already satisfied: idna<4,>=2.5 in /usr/local/lib/python3.11/dist-packages (from requests->csvw>=1.5.6->segments->phonemizer) (3.10)\n",
            "Requirement already satisfied: urllib3<3,>=1.21.1 in /usr/local/lib/python3.11/dist-packages (from requests->csvw>=1.5.6->segments->phonemizer) (2.3.0)\n",
            "Requirement already satisfied: certifi>=2017.4.17 in /usr/local/lib/python3.11/dist-packages (from requests->csvw>=1.5.6->segments->phonemizer) (2025.1.31)\n",
            "Downloading jiwer-3.1.0-py3-none-any.whl (22 kB)\n",
            "Downloading rapidfuzz-3.12.2-cp311-cp311-manylinux_2_17_x86_64.manylinux2014_x86_64.whl (3.1 MB)\n",
            "\u001b[2K   \u001b[90m━━━━━━━━━━━━━━━━━━━━━━━━━━━━━━━━━━━━━━━━\u001b[0m \u001b[32m3.1/3.1 MB\u001b[0m \u001b[31m33.8 MB/s\u001b[0m eta \u001b[36m0:00:00\u001b[0m\n",
            "\u001b[?25hInstalling collected packages: rapidfuzz, jiwer\n",
            "Successfully installed jiwer-3.1.0 rapidfuzz-3.12.2\n"
          ]
        }
      ]
    },
    {
      "cell_type": "code",
      "source": [
        "from jiwer import wer, cer\n",
        "from phonemizer import phonemize\n",
        "def evaluate_transcription(predicted, reference):\n",
        "    word_error = wer(reference, predicted)\n",
        "    char_error = cer(reference, predicted)\n",
        "    print(f\"Word Error Rate (WER): {word_error:.2%}\")\n",
        "    print(f\"Character Error Rate (CER): {char_error:.2%}\")\n",
        "# Example Evaluation\n",
        "reference_ipa = \"ɡˈoʊkəlnˌæθ\"  # Correct IPA for \"gokulnath\"\n",
        "predicted_ipa = \"ɡˈoʊkəlnˌæθ\"    # Example system output\n",
        "\n",
        "evaluate_transcription(predicted_ipa, reference_ipa)\n"
      ],
      "metadata": {
        "colab": {
          "base_uri": "https://localhost:8080/"
        },
        "id": "lsT4lXUxNlUy",
        "outputId": "0239d5ed-9f3a-4eac-e0ef-97fd0dfe5507"
      },
      "execution_count": 20,
      "outputs": [
        {
          "output_type": "stream",
          "name": "stdout",
          "text": [
            "Word Error Rate (WER): 0.00%\n",
            "Character Error Rate (CER): 0.00%\n"
          ]
        }
      ]
    },
    {
      "cell_type": "code",
      "source": [
        "!pip install jiwer phonemizer matplotlib seaborn\n",
        "!apt-get install espeak-ng -y\n"
      ],
      "metadata": {
        "colab": {
          "base_uri": "https://localhost:8080/"
        },
        "id": "EffFRTkjNlTj",
        "outputId": "c8ecbafb-469a-4699-f5f4-47ce8fc39e40"
      },
      "execution_count": null,
      "outputs": [
        {
          "output_type": "stream",
          "name": "stdout",
          "text": [
            "Requirement already satisfied: jiwer in /usr/local/lib/python3.11/dist-packages (3.1.0)\n",
            "Requirement already satisfied: phonemizer in /usr/local/lib/python3.11/dist-packages (3.3.0)\n",
            "Requirement already satisfied: matplotlib in /usr/local/lib/python3.11/dist-packages (3.10.0)\n",
            "Requirement already satisfied: seaborn in /usr/local/lib/python3.11/dist-packages (0.13.2)\n",
            "Requirement already satisfied: click>=8.1.8 in /usr/local/lib/python3.11/dist-packages (from jiwer) (8.1.8)\n",
            "Requirement already satisfied: rapidfuzz>=3.9.7 in /usr/local/lib/python3.11/dist-packages (from jiwer) (3.12.2)\n",
            "Requirement already satisfied: joblib in /usr/local/lib/python3.11/dist-packages (from phonemizer) (1.4.2)\n",
            "Requirement already satisfied: segments in /usr/local/lib/python3.11/dist-packages (from phonemizer) (2.3.0)\n",
            "Requirement already satisfied: attrs>=18.1 in /usr/local/lib/python3.11/dist-packages (from phonemizer) (25.1.0)\n",
            "Requirement already satisfied: dlinfo in /usr/local/lib/python3.11/dist-packages (from phonemizer) (2.0.0)\n",
            "Requirement already satisfied: typing-extensions in /usr/local/lib/python3.11/dist-packages (from phonemizer) (4.12.2)\n",
            "Requirement already satisfied: contourpy>=1.0.1 in /usr/local/lib/python3.11/dist-packages (from matplotlib) (1.3.1)\n",
            "Requirement already satisfied: cycler>=0.10 in /usr/local/lib/python3.11/dist-packages (from matplotlib) (0.12.1)\n",
            "Requirement already satisfied: fonttools>=4.22.0 in /usr/local/lib/python3.11/dist-packages (from matplotlib) (4.56.0)\n",
            "Requirement already satisfied: kiwisolver>=1.3.1 in /usr/local/lib/python3.11/dist-packages (from matplotlib) (1.4.8)\n",
            "Requirement already satisfied: numpy>=1.23 in /usr/local/lib/python3.11/dist-packages (from matplotlib) (1.26.4)\n",
            "Requirement already satisfied: packaging>=20.0 in /usr/local/lib/python3.11/dist-packages (from matplotlib) (24.2)\n",
            "Requirement already satisfied: pillow>=8 in /usr/local/lib/python3.11/dist-packages (from matplotlib) (11.1.0)\n",
            "Requirement already satisfied: pyparsing>=2.3.1 in /usr/local/lib/python3.11/dist-packages (from matplotlib) (3.2.1)\n",
            "Requirement already satisfied: python-dateutil>=2.7 in /usr/local/lib/python3.11/dist-packages (from matplotlib) (2.8.2)\n",
            "Requirement already satisfied: pandas>=1.2 in /usr/local/lib/python3.11/dist-packages (from seaborn) (2.2.2)\n",
            "Requirement already satisfied: pytz>=2020.1 in /usr/local/lib/python3.11/dist-packages (from pandas>=1.2->seaborn) (2025.1)\n",
            "Requirement already satisfied: tzdata>=2022.7 in /usr/local/lib/python3.11/dist-packages (from pandas>=1.2->seaborn) (2025.1)\n",
            "Requirement already satisfied: six>=1.5 in /usr/local/lib/python3.11/dist-packages (from python-dateutil>=2.7->matplotlib) (1.17.0)\n",
            "Requirement already satisfied: regex in /usr/local/lib/python3.11/dist-packages (from segments->phonemizer) (2024.11.6)\n",
            "Requirement already satisfied: csvw>=1.5.6 in /usr/local/lib/python3.11/dist-packages (from segments->phonemizer) (3.5.1)\n",
            "Requirement already satisfied: isodate in /usr/local/lib/python3.11/dist-packages (from csvw>=1.5.6->segments->phonemizer) (0.7.2)\n",
            "Requirement already satisfied: rfc3986<2 in /usr/local/lib/python3.11/dist-packages (from csvw>=1.5.6->segments->phonemizer) (1.5.0)\n",
            "Requirement already satisfied: uritemplate>=3.0.0 in /usr/local/lib/python3.11/dist-packages (from csvw>=1.5.6->segments->phonemizer) (4.1.1)\n",
            "Requirement already satisfied: babel in /usr/local/lib/python3.11/dist-packages (from csvw>=1.5.6->segments->phonemizer) (2.17.0)\n",
            "Requirement already satisfied: requests in /usr/local/lib/python3.11/dist-packages (from csvw>=1.5.6->segments->phonemizer) (2.32.3)\n",
            "Requirement already satisfied: language-tags in /usr/local/lib/python3.11/dist-packages (from csvw>=1.5.6->segments->phonemizer) (1.2.0)\n",
            "Requirement already satisfied: rdflib in /usr/local/lib/python3.11/dist-packages (from csvw>=1.5.6->segments->phonemizer) (7.1.3)\n",
            "Requirement already satisfied: colorama in /usr/local/lib/python3.11/dist-packages (from csvw>=1.5.6->segments->phonemizer) (0.4.6)\n",
            "Requirement already satisfied: jsonschema in /usr/local/lib/python3.11/dist-packages (from csvw>=1.5.6->segments->phonemizer) (4.23.0)\n",
            "Requirement already satisfied: jsonschema-specifications>=2023.03.6 in /usr/local/lib/python3.11/dist-packages (from jsonschema->csvw>=1.5.6->segments->phonemizer) (2024.10.1)\n",
            "Requirement already satisfied: referencing>=0.28.4 in /usr/local/lib/python3.11/dist-packages (from jsonschema->csvw>=1.5.6->segments->phonemizer) (0.36.2)\n",
            "Requirement already satisfied: rpds-py>=0.7.1 in /usr/local/lib/python3.11/dist-packages (from jsonschema->csvw>=1.5.6->segments->phonemizer) (0.23.1)\n",
            "Requirement already satisfied: charset-normalizer<4,>=2 in /usr/local/lib/python3.11/dist-packages (from requests->csvw>=1.5.6->segments->phonemizer) (3.4.1)\n",
            "Requirement already satisfied: idna<4,>=2.5 in /usr/local/lib/python3.11/dist-packages (from requests->csvw>=1.5.6->segments->phonemizer) (3.10)\n",
            "Requirement already satisfied: urllib3<3,>=1.21.1 in /usr/local/lib/python3.11/dist-packages (from requests->csvw>=1.5.6->segments->phonemizer) (2.3.0)\n",
            "Requirement already satisfied: certifi>=2017.4.17 in /usr/local/lib/python3.11/dist-packages (from requests->csvw>=1.5.6->segments->phonemizer) (2025.1.31)\n",
            "Reading package lists... Done\n",
            "Building dependency tree... Done\n",
            "Reading state information... Done\n",
            "espeak-ng is already the newest version (1.50+dfsg-10ubuntu0.1).\n",
            "0 upgraded, 0 newly installed, 0 to remove and 29 not upgraded.\n"
          ]
        }
      ]
    },
    {
      "cell_type": "code",
      "source": [
        "import subprocess\n",
        "import matplotlib.pyplot as plt\n",
        "import seaborn as sns\n",
        "from jiwer import wer, cer\n",
        "\n",
        "def transcribe_with_espeak(text, lang_code=\"en-us\"):\n",
        "    \"\"\"Transcribes text to IPA using espeak-ng.\"\"\"\n",
        "    try:\n",
        "        result = subprocess.run([\"espeak-ng\", \"-v\", lang_code, \"--ipa\", text], capture_output=True, text=True)\n",
        "        ipa_transcription = result.stdout.strip()\n",
        "        return ipa_transcription\n",
        "    except Exception as e:\n",
        "        return f\"Error: {str(e)}\"\n",
        "\n",
        "def evaluate_transcription(predicted, reference):\n",
        "    \"\"\"Computes Word Error Rate (WER) and Character Error Rate (CER).\"\"\"\n",
        "    word_error = wer(reference, predicted)\n",
        "    char_error = cer(reference, predicted)\n",
        "\n",
        "    print(f\"Word Error Rate (WER): {word_error:.2%}\")\n",
        "    print(f\"Character Error Rate (CER): {char_error:.2%}\")\n",
        "\n",
        "    return word_error, char_error\n",
        "\n",
        "def plot_metrics(wer_score, cer_score):\n",
        "    \"\"\"Plots WER and CER using a bar chart.\"\"\"\n",
        "    metrics = [\"WER\", \"CER\"]\n",
        "    values = [wer_score * 100, cer_score * 100]  # Convert to percentage\n",
        "\n",
        "    plt.figure(figsize=(6, 4))\n",
        "    sns.barplot(x=metrics, y=values, palette=\"coolwarm\")\n",
        "    plt.ylim(0, 100)\n",
        "    plt.ylabel(\"Error Rate (%)\")\n",
        "    plt.title(\"Transcription Accuracy Metrics\")\n",
        "    plt.show()\n",
        "\n",
        "# Example Input\n",
        "text = \"Hello World\"\n",
        "reference_ipa = \"həˈloʊ wɝld\"  # Correct IPA for \"Hello World\"\n",
        "\n",
        "# Generate IPA transcription\n",
        "predicted_ipa = transcribe_with_espeak(text, \"en-us\")\n",
        "print(f\"Predicted IPA: {predicted_ipa}\")\n",
        "\n",
        "# Evaluate transcription\n",
        "wer_score, cer_score = evaluate_transcription(predicted_ipa, reference_ipa)\n",
        "\n",
        "# Plot accuracy metrics\n",
        "plot_metrics(wer_score, cer_score)\n"
      ],
      "metadata": {
        "colab": {
          "base_uri": "https://localhost:8080/",
          "height": 550
        },
        "id": "4_TdT3y6NRvu",
        "outputId": "6b3f3c5a-b574-48f6-9a8c-49d1be087bdf"
      },
      "execution_count": null,
      "outputs": [
        {
          "output_type": "stream",
          "name": "stdout",
          "text": [
            "Predicted IPA: həlˈoʊ wˈɜːld\n",
            "Word Error Rate (WER): 100.00%\n",
            "Character Error Rate (CER): 45.45%\n"
          ]
        },
        {
          "output_type": "stream",
          "name": "stderr",
          "text": [
            "<ipython-input-13-eb8181e1e73e>:31: FutureWarning: \n",
            "\n",
            "Passing `palette` without assigning `hue` is deprecated and will be removed in v0.14.0. Assign the `x` variable to `hue` and set `legend=False` for the same effect.\n",
            "\n",
            "  sns.barplot(x=metrics, y=values, palette=\"coolwarm\")\n"
          ]
        },
        {
          "output_type": "display_data",
          "data": {
            "text/plain": [
              "<Figure size 600x400 with 1 Axes>"
            ],
            "image/png": "[encoded data removed]"
          },
          "metadata": {}
        }
      ]
    },
    {
      "cell_type": "code",
      "source": [
        "!pip install gradio jiwer phonemizer matplotlib seaborn\n",
        "!apt-get install espeak-ng -y\n"
      ],
      "metadata": {
        "colab": {
          "base_uri": "https://localhost:8080/"
        },
        "id": "SwBCMwSvNtoF",
        "outputId": "bbb4bfb7-8c06-4d5d-b9ae-069f5c1a8ac6"
      },
      "execution_count": null,
      "outputs": [
        {
          "output_type": "stream",
          "name": "stdout",
          "text": [
            "Collecting gradio\n",
            "  Downloading gradio-5.20.1-py3-none-any.whl.metadata (16 kB)\n",
            "Requirement already satisfied: jiwer in /usr/local/lib/python3.11/dist-packages (3.1.0)\n",
            "Requirement already satisfied: phonemizer in /usr/local/lib/python3.11/dist-packages (3.3.0)\n",
            "Requirement already satisfied: matplotlib in /usr/local/lib/python3.11/dist-packages (3.10.0)\n",
            "Requirement already satisfied: seaborn in /usr/local/lib/python3.11/dist-packages (0.13.2)\n",
            "Collecting aiofiles<24.0,>=22.0 (from gradio)\n",
            "  Downloading aiofiles-23.2.1-py3-none-any.whl.metadata (9.7 kB)\n",
            "Requirement already satisfied: anyio<5.0,>=3.0 in /usr/local/lib/python3.11/dist-packages (from gradio) (3.7.1)\n",
            "Collecting fastapi<1.0,>=0.115.2 (from gradio)\n",
            "  Downloading fastapi-0.115.11-py3-none-any.whl.metadata (27 kB)\n",
            "Collecting ffmpy (from gradio)\n",
            "  Downloading ffmpy-0.5.0-py3-none-any.whl.metadata (3.0 kB)\n",
            "Collecting gradio-client==1.7.2 (from gradio)\n",
            "  Downloading gradio_client-1.7.2-py3-none-any.whl.metadata (7.1 kB)\n",
            "Collecting groovy~=0.1 (from gradio)\n",
            "  Downloading groovy-0.1.2-py3-none-any.whl.metadata (6.1 kB)\n",
            "Requirement already satisfied: httpx>=0.24.1 in /usr/local/lib/python3.11/dist-packages (from gradio) (0.28.1)\n",
            "Requirement already satisfied: huggingface-hub>=0.28.1 in /usr/local/lib/python3.11/dist-packages (from gradio) (0.28.1)\n",
            "Requirement already satisfied: jinja2<4.0 in /usr/local/lib/python3.11/dist-packages (from gradio) (3.1.5)\n",
            "Collecting markupsafe~=2.0 (from gradio)\n",
            "  Downloading MarkupSafe-2.1.5-cp311-cp311-manylinux_2_17_x86_64.manylinux2014_x86_64.whl.metadata (3.0 kB)\n",
            "Requirement already satisfied: numpy<3.0,>=1.0 in /usr/local/lib/python3.11/dist-packages (from gradio) (1.26.4)\n",
            "Requirement already satisfied: orjson~=3.0 in /usr/local/lib/python3.11/dist-packages (from gradio) (3.10.15)\n",
            "Requirement already satisfied: packaging in /usr/local/lib/python3.11/dist-packages (from gradio) (24.2)\n",
            "Requirement already satisfied: pandas<3.0,>=1.0 in /usr/local/lib/python3.11/dist-packages (from gradio) (2.2.2)\n",
            "Requirement already satisfied: pillow<12.0,>=8.0 in /usr/local/lib/python3.11/dist-packages (from gradio) (11.1.0)\n",
            "Requirement already satisfied: pydantic>=2.0 in /usr/local/lib/python3.11/dist-packages (from gradio) (2.10.6)\n",
            "Requirement already satisfied: pydub in /usr/local/lib/python3.11/dist-packages (from gradio) (0.25.1)\n",
            "Collecting python-multipart>=0.0.18 (from gradio)\n",
            "  Downloading python_multipart-0.0.20-py3-none-any.whl.metadata (1.8 kB)\n",
            "Requirement already satisfied: pyyaml<7.0,>=5.0 in /usr/local/lib/python3.11/dist-packages (from gradio) (6.0.2)\n",
            "Collecting ruff>=0.9.3 (from gradio)\n",
            "  Downloading ruff-0.9.10-py3-none-manylinux_2_17_x86_64.manylinux2014_x86_64.whl.metadata (25 kB)\n",
            "Collecting safehttpx<0.2.0,>=0.1.6 (from gradio)\n",
            "  Downloading safehttpx-0.1.6-py3-none-any.whl.metadata (4.2 kB)\n",
            "Collecting semantic-version~=2.0 (from gradio)\n",
            "  Downloading semantic_version-2.10.0-py2.py3-none-any.whl.metadata (9.7 kB)\n",
            "Collecting starlette<1.0,>=0.40.0 (from gradio)\n",
            "  Downloading starlette-0.46.0-py3-none-any.whl.metadata (6.2 kB)\n",
            "Collecting tomlkit<0.14.0,>=0.12.0 (from gradio)\n",
            "  Downloading tomlkit-0.13.2-py3-none-any.whl.metadata (2.7 kB)\n",
            "Requirement already satisfied: typer<1.0,>=0.12 in /usr/local/lib/python3.11/dist-packages (from gradio) (0.15.2)\n",
            "Requirement already satisfied: typing-extensions~=4.0 in /usr/local/lib/python3.11/dist-packages (from gradio) (4.12.2)\n",
            "Collecting uvicorn>=0.14.0 (from gradio)\n",
            "  Downloading uvicorn-0.34.0-py3-none-any.whl.metadata (6.5 kB)\n",
            "Requirement already satisfied: fsspec in /usr/local/lib/python3.11/dist-packages (from gradio-client==1.7.2->gradio) (2024.10.0)\n",
            "Requirement already satisfied: websockets<16.0,>=10.0 in /usr/local/lib/python3.11/dist-packages (from gradio-client==1.7.2->gradio) (14.2)\n",
            "Requirement already satisfied: click>=8.1.8 in /usr/local/lib/python3.11/dist-packages (from jiwer) (8.1.8)\n",
            "Requirement already satisfied: rapidfuzz>=3.9.7 in /usr/local/lib/python3.11/dist-packages (from jiwer) (3.12.2)\n",
            "Requirement already satisfied: joblib in /usr/local/lib/python3.11/dist-packages (from phonemizer) (1.4.2)\n",
            "Requirement already satisfied: segments in /usr/local/lib/python3.11/dist-packages (from phonemizer) (2.3.0)\n",
            "Requirement already satisfied: attrs>=18.1 in /usr/local/lib/python3.11/dist-packages (from phonemizer) (25.1.0)\n",
            "Requirement already satisfied: dlinfo in /usr/local/lib/python3.11/dist-packages (from phonemizer) (2.0.0)\n",
            "Requirement already satisfied: contourpy>=1.0.1 in /usr/local/lib/python3.11/dist-packages (from matplotlib) (1.3.1)\n",
            "Requirement already satisfied: cycler>=0.10 in /usr/local/lib/python3.11/dist-packages (from matplotlib) (0.12.1)\n",
            "Requirement already satisfied: fonttools>=4.22.0 in /usr/local/lib/python3.11/dist-packages (from matplotlib) (4.56.0)\n",
            "Requirement already satisfied: kiwisolver>=1.3.1 in /usr/local/lib/python3.11/dist-packages (from matplotlib) (1.4.8)\n",
            "Requirement already satisfied: pyparsing>=2.3.1 in /usr/local/lib/python3.11/dist-packages (from matplotlib) (3.2.1)\n",
            "Requirement already satisfied: python-dateutil>=2.7 in /usr/local/lib/python3.11/dist-packages (from matplotlib) (2.8.2)\n",
            "Requirement already satisfied: idna>=2.8 in /usr/local/lib/python3.11/dist-packages (from anyio<5.0,>=3.0->gradio) (3.10)\n",
            "Requirement already satisfied: sniffio>=1.1 in /usr/local/lib/python3.11/dist-packages (from anyio<5.0,>=3.0->gradio) (1.3.1)\n",
            "Requirement already satisfied: certifi in /usr/local/lib/python3.11/dist-packages (from httpx>=0.24.1->gradio) (2025.1.31)\n",
            "Requirement already satisfied: httpcore==1.* in /usr/local/lib/python3.11/dist-packages (from httpx>=0.24.1->gradio) (1.0.7)\n",
            "Requirement already satisfied: h11<0.15,>=0.13 in /usr/local/lib/python3.11/dist-packages (from httpcore==1.*->httpx>=0.24.1->gradio) (0.14.0)\n",
            "Requirement already satisfied: filelock in /usr/local/lib/python3.11/dist-packages (from huggingface-hub>=0.28.1->gradio) (3.17.0)\n",
            "Requirement already satisfied: requests in /usr/local/lib/python3.11/dist-packages (from huggingface-hub>=0.28.1->gradio) (2.32.3)\n",
            "Requirement already satisfied: tqdm>=4.42.1 in /usr/local/lib/python3.11/dist-packages (from huggingface-hub>=0.28.1->gradio) (4.67.1)\n",
            "Requirement already satisfied: pytz>=2020.1 in /usr/local/lib/python3.11/dist-packages (from pandas<3.0,>=1.0->gradio) (2025.1)\n",
            "Requirement already satisfied: tzdata>=2022.7 in /usr/local/lib/python3.11/dist-packages (from pandas<3.0,>=1.0->gradio) (2025.1)\n",
            "Requirement already satisfied: annotated-types>=0.6.0 in /usr/local/lib/python3.11/dist-packages (from pydantic>=2.0->gradio) (0.7.0)\n",
            "Requirement already satisfied: pydantic-core==2.27.2 in /usr/local/lib/python3.11/dist-packages (from pydantic>=2.0->gradio) (2.27.2)\n",
            "Requirement already satisfied: six>=1.5 in /usr/local/lib/python3.11/dist-packages (from python-dateutil>=2.7->matplotlib) (1.17.0)\n",
            "Requirement already satisfied: shellingham>=1.3.0 in /usr/local/lib/python3.11/dist-packages (from typer<1.0,>=0.12->gradio) (1.5.4)\n",
            "Requirement already satisfied: rich>=10.11.0 in /usr/local/lib/python3.11/dist-packages (from typer<1.0,>=0.12->gradio) (13.9.4)\n",
            "Requirement already satisfied: regex in /usr/local/lib/python3.11/dist-packages (from segments->phonemizer) (2024.11.6)\n",
            "Requirement already satisfied: csvw>=1.5.6 in /usr/local/lib/python3.11/dist-packages (from segments->phonemizer) (3.5.1)\n",
            "Requirement already satisfied: isodate in /usr/local/lib/python3.11/dist-packages (from csvw>=1.5.6->segments->phonemizer) (0.7.2)\n",
            "Requirement already satisfied: rfc3986<2 in /usr/local/lib/python3.11/dist-packages (from csvw>=1.5.6->segments->phonemizer) (1.5.0)\n",
            "Requirement already satisfied: uritemplate>=3.0.0 in /usr/local/lib/python3.11/dist-packages (from csvw>=1.5.6->segments->phonemizer) (4.1.1)\n",
            "Requirement already satisfied: babel in /usr/local/lib/python3.11/dist-packages (from csvw>=1.5.6->segments->phonemizer) (2.17.0)\n",
            "Requirement already satisfied: language-tags in /usr/local/lib/python3.11/dist-packages (from csvw>=1.5.6->segments->phonemizer) (1.2.0)\n",
            "Requirement already satisfied: rdflib in /usr/local/lib/python3.11/dist-packages (from csvw>=1.5.6->segments->phonemizer) (7.1.3)\n",
            "Requirement already satisfied: colorama in /usr/local/lib/python3.11/dist-packages (from csvw>=1.5.6->segments->phonemizer) (0.4.6)\n",
            "Requirement already satisfied: jsonschema in /usr/local/lib/python3.11/dist-packages (from csvw>=1.5.6->segments->phonemizer) (4.23.0)\n",
            "Requirement already satisfied: markdown-it-py>=2.2.0 in /usr/local/lib/python3.11/dist-packages (from rich>=10.11.0->typer<1.0,>=0.12->gradio) (3.0.0)\n",
            "Requirement already satisfied: pygments<3.0.0,>=2.13.0 in /usr/local/lib/python3.11/dist-packages (from rich>=10.11.0->typer<1.0,>=0.12->gradio) (2.18.0)\n",
            "Requirement already satisfied: charset-normalizer<4,>=2 in /usr/local/lib/python3.11/dist-packages (from requests->huggingface-hub>=0.28.1->gradio) (3.4.1)\n",
            "Requirement already satisfied: urllib3<3,>=1.21.1 in /usr/local/lib/python3.11/dist-packages (from requests->huggingface-hub>=0.28.1->gradio) (2.3.0)\n",
            "Requirement already satisfied: mdurl~=0.1 in /usr/local/lib/python3.11/dist-packages (from markdown-it-py>=2.2.0->rich>=10.11.0->typer<1.0,>=0.12->gradio) (0.1.2)\n",
            "Requirement already satisfied: jsonschema-specifications>=2023.03.6 in /usr/local/lib/python3.11/dist-packages (from jsonschema->csvw>=1.5.6->segments->phonemizer) (2024.10.1)\n",
            "Requirement already satisfied: referencing>=0.28.4 in /usr/local/lib/python3.11/dist-packages (from jsonschema->csvw>=1.5.6->segments->phonemizer) (0.36.2)\n",
            "Requirement already satisfied: rpds-py>=0.7.1 in /usr/local/lib/python3.11/dist-packages (from jsonschema->csvw>=1.5.6->segments->phonemizer) (0.23.1)\n",
            "Downloading gradio-5.20.1-py3-none-any.whl (62.3 MB)\n",
            "\u001b[2K   \u001b[90m━━━━━━━━━━━━━━━━━━━━━━━━━━━━━━━━━━━━━━━━\u001b[0m \u001b[32m62.3/62.3 MB\u001b[0m \u001b[31m11.5 MB/s\u001b[0m eta \u001b[36m0:00:00\u001b[0m\n",
            "\u001b[?25hDownloading gradio_client-1.7.2-py3-none-any.whl (322 kB)\n",
            "\u001b[2K   \u001b[90m━━━━━━━━━━━━━━━━━━━━━━━━━━━━━━━━━━━━━━━━\u001b[0m \u001b[32m322.1/322.1 kB\u001b[0m \u001b[31m23.6 MB/s\u001b[0m eta \u001b[36m0:00:00\u001b[0m\n",
            "\u001b[?25hDownloading aiofiles-23.2.1-py3-none-any.whl (15 kB)\n",
            "Downloading fastapi-0.115.11-py3-none-any.whl (94 kB)\n",
            "\u001b[2K   \u001b[90m━━━━━━━━━━━━━━━━━━━━━━━━━━━━━━━━━━━━━━━━\u001b[0m \u001b[32m94.9/94.9 kB\u001b[0m \u001b[31m7.2 MB/s\u001b[0m eta \u001b[36m0:00:00\u001b[0m\n",
            "\u001b[?25hDownloading groovy-0.1.2-py3-none-any.whl (14 kB)\n",
            "Downloading MarkupSafe-2.1.5-cp311-cp311-manylinux_2_17_x86_64.manylinux2014_x86_64.whl (28 kB)\n",
            "Downloading python_multipart-0.0.20-py3-none-any.whl (24 kB)\n",
            "Downloading ruff-0.9.10-py3-none-manylinux_2_17_x86_64.manylinux2014_x86_64.whl (11.3 MB)\n",
            "\u001b[2K   \u001b[90m━━━━━━━━━━━━━━━━━━━━━━━━━━━━━━━━━━━━━━━━\u001b[0m \u001b[32m11.3/11.3 MB\u001b[0m \u001b[31m100.3 MB/s\u001b[0m eta \u001b[36m0:00:00\u001b[0m\n",
            "\u001b[?25hDownloading safehttpx-0.1.6-py3-none-any.whl (8.7 kB)\n",
            "Downloading semantic_version-2.10.0-py2.py3-none-any.whl (15 kB)\n",
            "Downloading starlette-0.46.0-py3-none-any.whl (71 kB)\n",
            "\u001b[2K   \u001b[90m━━━━━━━━━━━━━━━━━━━━━━━━━━━━━━━━━━━━━━━━\u001b[0m \u001b[32m72.0/72.0 kB\u001b[0m \u001b[31m5.8 MB/s\u001b[0m eta \u001b[36m0:00:00\u001b[0m\n",
            "\u001b[?25hDownloading tomlkit-0.13.2-py3-none-any.whl (37 kB)\n",
            "Downloading uvicorn-0.34.0-py3-none-any.whl (62 kB)\n",
            "\u001b[2K   \u001b[90m━━━━━━━━━━━━━━━━━━━━━━━━━━━━━━━━━━━━━━━━\u001b[0m \u001b[32m62.3/62.3 kB\u001b[0m \u001b[31m4.9 MB/s\u001b[0m eta \u001b[36m0:00:00\u001b[0m\n",
            "\u001b[?25hDownloading ffmpy-0.5.0-py3-none-any.whl (6.0 kB)\n",
            "Installing collected packages: uvicorn, tomlkit, semantic-version, ruff, python-multipart, markupsafe, groovy, ffmpy, aiofiles, starlette, safehttpx, gradio-client, fastapi, gradio\n",
            "  Attempting uninstall: markupsafe\n",
            "    Found existing installation: MarkupSafe 3.0.2\n",
            "    Uninstalling MarkupSafe-3.0.2:\n",
            "      Successfully uninstalled MarkupSafe-3.0.2\n",
            "\u001b[31mERROR: pip's dependency resolver does not currently take into account all the packages that are installed. This behaviour is the source of the following dependency conflicts.\n",
            "torch 2.5.1+cu124 requires nvidia-cublas-cu12==12.4.5.8; platform_system == \"Linux\" and platform_machine == \"x86_64\", but you have nvidia-cublas-cu12 12.5.3.2 which is incompatible.\n",
            "torch 2.5.1+cu124 requires nvidia-cuda-cupti-cu12==12.4.127; platform_system == \"Linux\" and platform_machine == \"x86_64\", but you have nvidia-cuda-cupti-cu12 12.5.82 which is incompatible.\n",
            "torch 2.5.1+cu124 requires nvidia-cuda-nvrtc-cu12==12.4.127; platform_system == \"Linux\" and platform_machine == \"x86_64\", but you have nvidia-cuda-nvrtc-cu12 12.5.82 which is incompatible.\n",
            "torch 2.5.1+cu124 requires nvidia-cuda-runtime-cu12==12.4.127; platform_system == \"Linux\" and platform_machine == \"x86_64\", but you have nvidia-cuda-runtime-cu12 12.5.82 which is incompatible.\n",
            "torch 2.5.1+cu124 requires nvidia-cudnn-cu12==9.1.0.70; platform_system == \"Linux\" and platform_machine == \"x86_64\", but you have nvidia-cudnn-cu12 9.3.0.75 which is incompatible.\n",
            "torch 2.5.1+cu124 requires nvidia-cufft-cu12==11.2.1.3; platform_system == \"Linux\" and platform_machine == \"x86_64\", but you have nvidia-cufft-cu12 11.2.3.61 which is incompatible.\n",
            "torch 2.5.1+cu124 requires nvidia-curand-cu12==10.3.5.147; platform_system == \"Linux\" and platform_machine == \"x86_64\", but you have nvidia-curand-cu12 10.3.6.82 which is incompatible.\n",
            "torch 2.5.1+cu124 requires nvidia-cusolver-cu12==11.6.1.9; platform_system == \"Linux\" and platform_machine == \"x86_64\", but you have nvidia-cusolver-cu12 11.6.3.83 which is incompatible.\n",
            "torch 2.5.1+cu124 requires nvidia-cusparse-cu12==12.3.1.170; platform_system == \"Linux\" and platform_machine == \"x86_64\", but you have nvidia-cusparse-cu12 12.5.1.3 which is incompatible.\n",
            "torch 2.5.1+cu124 requires nvidia-nvjitlink-cu12==12.4.127; platform_system == \"Linux\" and platform_machine == \"x86_64\", but you have nvidia-nvjitlink-cu12 12.5.82 which is incompatible.\u001b[0m\u001b[31m\n",
            "\u001b[0mSuccessfully installed aiofiles-23.2.1 fastapi-0.115.11 ffmpy-0.5.0 gradio-5.20.1 gradio-client-1.7.2 groovy-0.1.2 markupsafe-2.1.5 python-multipart-0.0.20 ruff-0.9.10 safehttpx-0.1.6 semantic-version-2.10.0 starlette-0.46.0 tomlkit-0.13.2 uvicorn-0.34.0\n",
            "Reading package lists... Done\n",
            "Building dependency tree... Done\n",
            "Reading state information... Done\n",
            "espeak-ng is already the newest version (1.50+dfsg-10ubuntu0.1).\n",
            "0 upgraded, 0 newly installed, 0 to remove and 29 not upgraded.\n"
          ]
        }
      ]
    },
    {
      "cell_type": "code",
      "source": [
        "import gradio as gr\n",
        "import epitran\n",
        "import subprocess\n",
        "import numpy as np\n",
        "from gtts import gTTS\n",
        "from jiwer import wer, cer\n",
        "import os\n",
        "\n",
        "# Function to convert text to IPA using Epitran\n",
        "def convert_to_ipa(text, lang_code):\n",
        "    try:\n",
        "        epi = epitran.Epitran(lang_code)\n",
        "        ipa_transcription = epi.transliterate(text)\n",
        "        if not ipa_transcription:\n",
        "            return \"Error: IPA transcription failed!\"\n",
        "        return ipa_transcription\n",
        "    except Exception as e:\n",
        "        return f\"Error: {str(e)}\"\n",
        "\n",
        "# Function to convert text to IPA using Espeak-NG\n",
        "def transcribe_with_espeak(text, lang_code=\"en-us\"):\n",
        "    try:\n",
        "        result = subprocess.run([\"espeak-ng\", \"-v\", lang_code, \"--ipa\", text], capture_output=True, text=True)\n",
        "        ipa_transcription = result.stdout.strip()\n",
        "        return ipa_transcription\n",
        "    except Exception as e:\n",
        "        return f\"Error: {str(e)}\"\n",
        "\n",
        "# Function to generate pronunciation audio\n",
        "def generate_audio(text, lang_code):\n",
        "    try:\n",
        "        tts = gTTS(text, lang=lang_code.split(\"-\")[0])  # Extract base language\n",
        "        audio_path = \"output.mp3\"\n",
        "        tts.save(audio_path)\n",
        "        return audio_path\n",
        "    except Exception as e:\n",
        "        return None\n",
        "\n",
        "# Function to compute WER & CER\n",
        "def calculate_error_rates(predicted_ipa, reference_ipa):\n",
        "    if not reference_ipa:\n",
        "        return None, None\n",
        "    wer_score = wer(reference_ipa, predicted_ipa)\n",
        "    cer_score = cer(reference_ipa, predicted_ipa)\n",
        "    return round(wer_score, 4), round(cer_score, 4)\n",
        "\n",
        "# Gradio Interface\n",
        "def transcribe_and_play(text, lang_code, reference_ipa):\n",
        "    ipa_transcription = transcribe_with_espeak(text, lang_code)\n",
        "    if \"Error\" in ipa_transcription:\n",
        "        return ipa_transcription, None, None, None\n",
        "\n",
        "    wer_score, cer_score = calculate_error_rates(ipa_transcription, reference_ipa)\n",
        "    audio_path = generate_audio(text, lang_code)\n",
        "\n",
        "    return ipa_transcription, wer_score, cer_score, audio_path\n",
        "\n",
        "# Gradio UI\n",
        "with gr.Blocks() as app:\n",
        "    gr.Markdown(\"## 🎤 IPA Phonetic Transcription & Pronunciation\")\n",
        "    with gr.Row():\n",
        "        with gr.Column():\n",
        "            text_input = gr.Textbox(label=\"Enter Text\")\n",
        "            lang_code_input = gr.Textbox(label=\"Language Code (e.g., en-us, fr, es)\", value=\"en-us\")\n",
        "            reference_ipa_input = gr.Textbox(label=\"Reference IPA (optional, for accuracy evaluation)\")\n",
        "            submit_btn = gr.Button(\"Submit\")\n",
        "\n",
        "        with gr.Column():\n",
        "            ipa_output = gr.Textbox(label=\"IPA Transcription\", interactive=False)\n",
        "            wer_output = gr.Number(label=\"Word Error Rate (WER)\", precision=4)\n",
        "            cer_output = gr.Number(label=\"Character Error Rate (CER)\", precision=4)\n",
        "            audio_output = gr.Audio(label=\"Pronunciation\")\n",
        "\n",
        "    submit_btn.click(\n",
        "        transcribe_and_play,\n",
        "        inputs=[text_input, lang_code_input, reference_ipa_input],\n",
        "        outputs=[ipa_output, wer_output, cer_output, audio_output]\n",
        "    )\n",
        "\n",
        "app.launch(share=True)"
      ],
      "metadata": {
        "colab": {
          "base_uri": "https://localhost:8080/",
          "height": 611
        },
        "id": "R8x4jpGfNv5V",
        "outputId": "66e54283-fbd1-4916-b4b4-947a8e227d6a"
      },
      "execution_count": null,
      "outputs": [
        {
          "output_type": "stream",
          "name": "stdout",
          "text": [
            "Colab notebook detected. To show errors in colab notebook, set debug=True in launch()\n",
            "* Running on public URL: https://ae01b31266dcd614b9.gradio.live\n",
            "\n",
            "This share link expires in 72 hours. For free permanent hosting and GPU upgrades, run `gradio deploy` from the terminal in the working directory to deploy to Hugging Face Spaces (https://huggingface.co/spaces)\n"
          ]
        },
        {
          "output_type": "display_data",
          "data": {
            "text/plain": [
              "<IPython.core.display.HTML object>"
            ],
            "text/html": [
              "<div><iframe src=\"https://ae01b31266dcd614b9.gradio.live\" width=\"100%\" height=\"500\" allow=\"autoplay; camera; microphone; clipboard-read; clipboard-write;\" frameborder=\"0\" allowfullscreen></iframe></div>"
            ]
          },
          "metadata": {}
        },
        {
          "output_type": "execute_result",
          "data": {
            "text/plain": []
          },
          "metadata": {},
          "execution_count": 15
        }
      ]
    },
    {
      "cell_type": "code",
      "source": [],
      "metadata": {
        "id": "B2rR_94NNv3c"
      },
      "execution_count": null,
      "outputs": []
    },
    {
      "cell_type": "code",
      "source": [],
      "metadata": {
        "id": "dW4jWCWvNtmt"
      },
      "execution_count": null,
      "outputs": []
    }
  ]
}